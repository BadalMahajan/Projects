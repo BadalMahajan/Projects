{
 "cells": [
  {
   "cell_type": "code",
   "execution_count": 19,
   "id": "3f1dd5ac",
   "metadata": {},
   "outputs": [
    {
     "data": {
      "text/plain": [
       "'\\ue007'"
      ]
     },
     "execution_count": 19,
     "metadata": {},
     "output_type": "execute_result"
    }
   ],
   "source": [
    "from selenium import webdriver\n",
    "from selenium.webdriver.chrome.service import Service\n",
    "from selenium.webdriver.common.by import By\n",
    "from selenium.webdriver.common.keys import Keys\n",
    "import time\n",
    "s= Service(\"C:/Whatsapp_Code/chromedriver.exe\")\n",
    "driver=webdriver.Chrome(service= s)\n",
    "\n",
    "driver.get(\"https://www.instagram.com/\")\n",
    "time.sleep(3)\n",
    "\n",
    "username= driver.find_element(By.XPATH,\"/html/body/div[2]/div/div/div[1]/div/div/div/div[1]/section/main/article/div[2]/div[1]/div[2]/form/div/div[1]/div/label/input\")\n",
    "username.send_keys(\"**\")\n",
    "# add your user name in place of **\n",
    "password=driver.find_element(By.XPATH,\"/html/body/div[2]/div/div/div[1]/div/div/div/div[1]/section/main/article/div[2]/div[1]/div[2]/form/div/div[2]/div/label/input\")\n",
    "password.send_keys(\"**\")\n",
    "# add your passowrd inplace of **\n",
    "password.send_keys(Keys.ENTER)\n",
    "time.sleep(3)\n",
    "\n",
    "#click for create a new post\n",
    "driver.find_element(By.XPATH,\"/html/body/div[2]/div/div/div[1]/div/div/div/div[1]/div[1]/div[1]/div/div/div/div/div[2]/div[7]/div/div/a\").click()\n",
    "#click for go to file\n",
    "time.sleep(2)\n",
    "file=driver.find_element(By.XPATH,\"/html/body/div[2]/div/div/div[2]/div/div/div[1]/div/div[3]/div/div/div/div/div[2]/div/div/div/div[2]/div[1]/div/div/div[2]/div/button\").click()"
   ]
  },
  {
   "cell_type": "code",
   "execution_count": null,
   "id": "4a7ea93f",
   "metadata": {},
   "outputs": [],
   "source": []
  }
 ],
 "metadata": {
  "kernelspec": {
   "display_name": "Python 3 (ipykernel)",
   "language": "python",
   "name": "python3"
  },
  "language_info": {
   "codemirror_mode": {
    "name": "ipython",
    "version": 3
   },
   "file_extension": ".py",
   "mimetype": "text/x-python",
   "name": "python",
   "nbconvert_exporter": "python",
   "pygments_lexer": "ipython3",
   "version": "3.9.13"
  }
 },
 "nbformat": 4,
 "nbformat_minor": 5
}
